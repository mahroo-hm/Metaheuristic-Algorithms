{
 "cells": [
  {
   "cell_type": "markdown",
   "metadata": {},
   "source": [
    "This file operates as a test framework for evaluating and tweaking a 2-opt algorithm's parameters. Its prime objective is to measure whether the algorithm effectively enhances the fitness of solutions with each iteration. \n",
    "\n",
    "The simple test subtracts the new fitness score from the previous fitness score after an application of the gradient descent algorithm. A decrease in the score signifies an improvement and, thus, a **PASS**. Conversely, instances where the fitness score remains unchanged or increases are marked as **FAIL**. This metric helps in fine-tuning the algorithm parameters to minimize the count of failed iterations, ultimately leading towards an algorithm that consistently progresses toward more optimal solutions."
   ]
  },
  {
   "cell_type": "code",
   "execution_count": 24,
   "metadata": {},
   "outputs": [],
   "source": [
    "import random as rn\n",
    "import numpy as np\n",
    "import math\n",
    "import random\n",
    "import matplotlib.pyplot as plt"
   ]
  },
  {
   "cell_type": "code",
   "execution_count": 25,
   "metadata": {},
   "outputs": [
    {
     "data": {
      "text/plain": [
       "229"
      ]
     },
     "execution_count": 25,
     "metadata": {},
     "output_type": "execute_result"
    }
   ],
   "source": [
    "pop_size = 200\n",
    "file_path = './TSP-Tests/gr229.tsp'\n",
    "x = []\n",
    "y = []\n",
    "n = 0\n",
    "\n",
    "with open(file_path, 'r') as file:\n",
    "    # Iterate through each line in the file\n",
    "    for line in file:\n",
    "        # Split the line into a list of numbers (as strings)\n",
    "        parts = line.split()\n",
    "\n",
    "        if parts[0].isdigit():\n",
    "            x.append(float(parts[1]))\n",
    "            y.append(float(parts[2]))\n",
    "\n",
    "n = len(x)\n",
    "n"
   ]
  },
  {
   "cell_type": "code",
   "execution_count": 26,
   "metadata": {},
   "outputs": [],
   "source": [
    "def eucDist(n1, n2):\n",
    "    return round(math.sqrt(pow(x[n1] - x[n2], 2) + pow(y[n1] - y[n2], 2)), 3)\n",
    "\n",
    "adj_mat = [[eucDist(i, j) for j in range(n)] for i in range(n)]"
   ]
  },
  {
   "cell_type": "code",
   "execution_count": 27,
   "metadata": {},
   "outputs": [],
   "source": [
    "class Chromosome:\n",
    "    global x, y, n, adj_mat\n",
    "    def __init__(self, chrom):\n",
    "        self.chr = chrom.copy()\n",
    "        self.fitness = self.fitnessFunc(self.chr)\n",
    "    \n",
    "    def fitnessFunc(self, chr):\n",
    "        tmp = 0\n",
    "        for i in range(len(chr) - 1):\n",
    "            tmp += adj_mat[chr[i]][chr[i + 1]]\n",
    "        tmp += adj_mat[chr[0]][chr[n - 1]]\n",
    "        return tmp\n",
    "    \n",
    "    def mutateSwap(self, m1, m2):\n",
    "        tmp = self.chr[m1]\n",
    "        self.chr[m1] = self.chr[m2]\n",
    "        self.chr[m2] = tmp\n",
    "        self.fitness = self.fitnessFunc(self.chr)\n",
    "        return\n",
    "    \n",
    "    def mutateScramble(self, m1, m2):\n",
    "        tmp = self.chr[m1:m2]\n",
    "        random.shuffle(tmp)\n",
    "        self.chr[m1:m2] = tmp\n",
    "        self.fitness = self.fitnessFunc(self.chr)\n",
    "        return\n",
    "    \n",
    "    def mutateInsert(self, m1, m2):\n",
    "        self.chr = self.chr[:m1] + [self.chr[m2]] + self.chr[m1: m2] + self.chr[m2 + 1:]\n",
    "        self.fitness = self.fitnessFunc(self.chr)\n",
    "        return\n",
    "    \n",
    "    def opt2(self):\n",
    "        route = self.chr\n",
    "        print('prev fit', self.fitness)\n",
    "        improved = True\n",
    "        while improved:\n",
    "            improved = False\n",
    "            for i in range(0, n - 1):\n",
    "                for j in range(i + 1, n):\n",
    "                    if j - i == 1: continue  # changes nothing, skip then\n",
    "                    new_route = route[:i] + route[i:j][::-1] + route[j:]\n",
    "                    if self.fitnessFunc(new_route) < self.fitnessFunc(route):\n",
    "                        route = new_route\n",
    "                        improved = True\n",
    "            self.chr = route\n",
    "            self.fitness = self.fitnessFunc(route)\n",
    "        print('new fit', self.fitness)\n",
    "        return \n"
   ]
  },
  {
   "cell_type": "code",
   "execution_count": 28,
   "metadata": {},
   "outputs": [
    {
     "name": "stdout",
     "output_type": "stream",
     "text": [
      "\n",
      "\n",
      "[52, 85, 29, 51, 117, 30, 170, 0, 224, 197, 16, 47, 193, 221, 164, 119, 169, 220, 57, 133, 58, 46, 39, 151, 122, 44, 63, 55, 201, 53, 31, 110, 62, 202, 205, 8, 181, 66, 127, 71, 173, 158, 88, 132, 159, 74, 161, 118, 185, 213, 192, 155, 56, 219, 7, 216, 25, 176, 61, 72, 99, 124, 102, 165, 123, 139, 116, 162, 172, 80, 108, 226, 135, 171, 36, 18, 86, 178, 212, 43, 215, 95, 114, 59, 65, 21, 156, 138, 120, 76, 218, 210, 208, 54, 168, 89, 163, 143, 188, 222, 38, 150, 225, 183, 64, 93, 147, 73, 146, 137, 2, 194, 92, 217, 97, 136, 191, 4, 209, 203, 68, 1, 141, 49, 104, 60, 28, 40, 14, 75, 87, 200, 83, 20, 10, 131, 174, 27, 37, 195, 94, 125, 41, 166, 105, 160, 81, 115, 50, 189, 24, 6, 175, 111, 101, 198, 153, 17, 109, 154, 12, 26, 15, 140, 45, 84, 214, 34, 180, 90, 70, 206, 152, 35, 3, 11, 148, 91, 77, 67, 145, 179, 5, 227, 142, 32, 182, 211, 184, 207, 78, 48, 177, 228, 134, 9, 23, 96, 204, 121, 128, 106, 107, 167, 126, 42, 13, 157, 186, 187, 129, 82, 100, 144, 22, 79, 223, 196, 33, 113, 190, 19, 103, 130, 98, 199, 69, 149, 112]\n",
      "[217, 174, 45, 128, 68, 185, 141, 24, 163, 50, 20, 85, 136, 60, 79, 146, 215, 177, 33, 179, 105, 192, 63, 152, 110, 127, 137, 11, 138, 182, 202, 221, 195, 139, 178, 3, 1, 162, 124, 73, 81, 19, 226, 144, 9, 46, 209, 216, 84, 111, 189, 159, 223, 205, 90, 86, 115, 222, 165, 218, 131, 28, 157, 160, 172, 155, 48, 42, 171, 30, 56, 21, 53, 204, 18, 87, 83, 36, 207, 175, 65, 113, 107, 37, 104, 147, 64, 99, 4, 8, 72, 148, 120, 41, 219, 57, 14, 150, 54, 25, 129, 132, 61, 96, 93, 43, 228, 69, 130, 135, 220, 117, 184, 51, 211, 200, 58, 161, 187, 15, 191, 168, 91, 183, 100, 153, 188, 158, 92, 12, 59, 88, 123, 47, 95, 39, 119, 122, 134, 149, 224, 22, 198, 78, 181, 173, 38, 167, 44, 225, 94, 66, 17, 112, 201, 126, 62, 151, 103, 156, 0, 29, 108, 67, 133, 82, 106, 52, 89, 145, 7, 186, 101, 27, 75, 194, 140, 16, 176, 142, 13, 190, 118, 98, 227, 193, 74, 34, 10, 210, 76, 180, 35, 125, 40, 6, 102, 5, 170, 55, 26, 199, 197, 77, 70, 32, 31, 164, 2, 213, 49, 121, 116, 169, 71, 212, 23, 80, 143, 154, 114, 208, 196, 97, 214, 206, 166, 109, 203]\n",
      "[192, 198, 79, 180, 126, 16, 203, 130, 29, 4, 62, 133, 56, 122, 8, 136, 109, 48, 20, 120, 204, 171, 27, 218, 115, 92, 157, 209, 80, 30, 103, 71, 22, 33, 39, 45, 110, 9, 169, 154, 25, 114, 67, 212, 205, 184, 158, 28, 24, 151, 148, 228, 147, 3, 173, 170, 60, 131, 76, 179, 188, 176, 102, 226, 128, 137, 40, 201, 194, 5, 134, 61, 101, 0, 32, 106, 41, 210, 46, 38, 112, 88, 19, 96, 186, 37, 108, 81, 47, 161, 43, 53, 23, 91, 90, 156, 206, 127, 87, 125, 219, 153, 26, 163, 207, 220, 78, 104, 57, 189, 139, 55, 52, 105, 135, 223, 202, 10, 221, 31, 34, 6, 227, 44, 70, 211, 118, 86, 215, 113, 21, 94, 193, 175, 144, 162, 145, 51, 119, 159, 64, 116, 177, 93, 14, 199, 140, 174, 222, 181, 121, 183, 42, 73, 190, 178, 98, 216, 213, 164, 89, 143, 49, 100, 74, 7, 168, 225, 191, 35, 196, 58, 200, 224, 63, 18, 99, 155, 13, 129, 15, 124, 54, 68, 66, 2, 11, 182, 217, 17, 111, 59, 75, 214, 138, 12, 185, 97, 82, 160, 123, 167, 69, 95, 117, 165, 1, 65, 84, 149, 208, 72, 50, 150, 152, 141, 146, 83, 187, 85, 172, 107, 197, 132, 77, 166, 195, 36, 142]\n",
      "[151, 168, 82, 32, 35, 191, 137, 156, 133, 204, 25, 80, 209, 3, 40, 37, 84, 180, 10, 23, 131, 144, 183, 74, 68, 186, 172, 4, 105, 43, 171, 46, 195, 30, 169, 69, 150, 149, 136, 129, 64, 26, 179, 119, 98, 135, 203, 142, 220, 24, 36, 100, 71, 205, 152, 141, 175, 62, 67, 52, 63, 165, 79, 112, 163, 21, 77, 8, 199, 197, 106, 91, 134, 39, 96, 108, 45, 99, 57, 101, 181, 130, 201, 124, 113, 146, 207, 123, 157, 60, 138, 227, 107, 48, 117, 81, 9, 16, 212, 178, 210, 140, 153, 147, 226, 228, 224, 11, 174, 116, 58, 161, 118, 6, 89, 27, 164, 109, 208, 188, 213, 177, 38, 155, 33, 83, 19, 54, 92, 160, 95, 47, 12, 167, 50, 215, 97, 219, 187, 65, 103, 126, 31, 70, 93, 132, 102, 143, 185, 196, 225, 214, 202, 2, 125, 14, 42, 76, 120, 217, 15, 86, 34, 206, 5, 49, 170, 75, 127, 184, 72, 51, 216, 56, 222, 176, 55, 17, 166, 211, 90, 66, 192, 218, 41, 139, 29, 78, 0, 145, 88, 18, 20, 59, 128, 190, 44, 85, 111, 173, 28, 122, 189, 22, 110, 1, 182, 154, 148, 159, 94, 194, 115, 13, 7, 200, 162, 121, 104, 61, 73, 114, 87, 221, 198, 193, 223, 53, 158]\n",
      "[221, 153, 176, 150, 87, 96, 172, 55, 110, 75, 137, 107, 108, 154, 178, 155, 227, 157, 215, 122, 113, 133, 61, 15, 187, 4, 56, 224, 145, 77, 181, 223, 62, 128, 198, 38, 105, 37, 16, 48, 28, 78, 140, 101, 225, 53, 141, 194, 50, 196, 6, 188, 23, 90, 197, 19, 152, 99, 82, 222, 7, 166, 165, 184, 156, 106, 220, 217, 69, 88, 44, 212, 32, 51, 205, 109, 199, 138, 202, 72, 93, 175, 58, 142, 185, 192, 204, 33, 189, 186, 39, 27, 190, 42, 211, 67, 89, 174, 68, 95, 218, 147, 46, 43, 80, 161, 151, 164, 17, 129, 131, 210, 203, 71, 30, 86, 127, 132, 149, 5, 200, 216, 173, 118, 226, 193, 74, 116, 85, 177, 179, 24, 100, 103, 195, 70, 123, 57, 183, 120, 31, 170, 158, 119, 12, 209, 136, 214, 94, 20, 160, 40, 125, 207, 59, 84, 115, 9, 79, 64, 180, 130, 18, 91, 112, 163, 52, 63, 65, 2, 47, 167, 10, 29, 13, 60, 66, 83, 92, 104, 81, 206, 76, 148, 111, 54, 22, 97, 73, 159, 228, 1, 98, 162, 117, 3, 36, 35, 49, 213, 219, 11, 121, 21, 208, 102, 143, 45, 171, 191, 8, 201, 26, 124, 144, 169, 126, 114, 139, 25, 135, 0, 34, 14, 146, 134, 182, 168, 41]\n"
     ]
    }
   ],
   "source": [
    "pop_size = 5\n",
    "def generatePop():\n",
    "    pop = []\n",
    "    c = [i for i in range(n)]\n",
    "    for i in range(pop_size):\n",
    "        random.shuffle(c)\n",
    "        pop.append(Chromosome(c))\n",
    "    #print(f'Population of size {len(pop)} generated.')\n",
    "    return pop\n",
    "\n",
    "pop = generatePop()\n",
    "print('\\n')\n",
    "for xxx in pop:\n",
    "    print(xxx.chr)"
   ]
  },
  {
   "cell_type": "code",
   "execution_count": 29,
   "metadata": {},
   "outputs": [
    {
     "name": "stdout",
     "output_type": "stream",
     "text": [
      "prev fit 16258.701999999997\n",
      "new fit 1780.594999999999\n",
      "prev fit 16128.291000000007\n",
      "new fit 1760.1059999999986\n",
      "prev fit 16213.059000000005\n",
      "new fit 1768.3229999999992\n",
      "prev fit 14703.654999999995\n",
      "new fit 1805.038999999999\n",
      "prev fit 16165.604000000008\n",
      "new fit 1763.4329999999989\n"
     ]
    }
   ],
   "source": [
    "for this in pop:\n",
    "    this.opt2()"
   ]
  }
 ],
 "metadata": {
  "kernelspec": {
   "display_name": "base",
   "language": "python",
   "name": "python3"
  },
  "language_info": {
   "codemirror_mode": {
    "name": "ipython",
    "version": 3
   },
   "file_extension": ".py",
   "mimetype": "text/x-python",
   "name": "python",
   "nbconvert_exporter": "python",
   "pygments_lexer": "ipython3",
   "version": "3.11.5"
  }
 },
 "nbformat": 4,
 "nbformat_minor": 2
}
