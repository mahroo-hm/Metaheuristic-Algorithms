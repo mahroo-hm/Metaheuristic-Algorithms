{
 "cells": [
  {
   "cell_type": "markdown",
   "metadata": {},
   "source": [
    "This file operates as a test framework for evaluating and tweaking a gradient descent algorithm's parameters. Its prime objective is to measure whether the algorithm effectively enhances the fitness of solutions with each iteration. \n",
    "\n",
    "The simple test subtracts the new fitness score from the previous fitness score after an application of the gradient descent algorithm. A decrease in the score signifies an improvement and, thus, a **PASS**. Conversely, instances where the fitness score remains unchanged or increases are marked as **FAIL**. The number provided at the end quantifies the total failed iterations across all chromosomes within the population. This metric helps in fine-tuning the algorithm parameters to minimize the count of failed iterations, ultimately leading towards an algorithm that consistently progresses toward more optimal solutions."
   ]
  },
  {
   "cell_type": "code",
   "execution_count": 1130,
   "metadata": {},
   "outputs": [],
   "source": [
    "import random as rn\n",
    "import numpy as np\n",
    "import math\n",
    "import random\n",
    "import matplotlib.pyplot as plt"
   ]
  },
  {
   "cell_type": "code",
   "execution_count": 1131,
   "metadata": {},
   "outputs": [],
   "source": [
    "pop_size = 200\n",
    "x = []\n",
    "y = []\n",
    "\n",
    "instuc = []\n",
    "with open('./CurveFitting-Tests/CurveFitting_test2.txt', 'r') as file:\n",
    "    # Iterate through each line in the file\n",
    "    for line in file:\n",
    "        # Split the line into a list of numbers (as strings)\n",
    "        parts = line.split()\n",
    "\n",
    "        if len(parts) == 2:\n",
    "            x.append(float(parts[0]))\n",
    "            y.append(float(parts[1]))\n",
    "        else:\n",
    "            instuc.append(int(parts[0]))\n",
    "\n",
    "n = instuc[0] + 1\n",
    "coef_min = x[0]\n",
    "coef_max = y[0]\n",
    "x = x[1:]\n",
    "y = y[1:]\n"
   ]
  },
  {
   "cell_type": "code",
   "execution_count": 1133,
   "metadata": {},
   "outputs": [],
   "source": [
    "class Chromosome:\n",
    "    global x, y, n\n",
    "    def __init__(self, chr):\n",
    "        self.chr = chr\n",
    "        self.fitness, self.chr_y = self.fitFunc(self.chr)\n",
    "        self.no_fail = 0\n",
    "\n",
    "    def fitFunc(self, chr):\n",
    "        self.chr_y = np.polyval(chr, x)\n",
    "        self.fitness = np.sum([abs(y1 - y2) for (y1, y2) in zip(self.chr_y, y)]) * (1/len(x))\n",
    "        return self.fitness, self.chr_y\n",
    "    \n",
    "    def mutateComp(self, m1):\n",
    "        self.chr[m1] = coef_max + coef_min - self.chr[m1]\n",
    "        self.fitness, self.chr_y = self.fitFunc(self.chr)\n",
    "        return\n",
    "    \n",
    "    def mutateSwap(self, m1, m2):\n",
    "        tmp = self.chr[m1]\n",
    "        self.chr[m1] = self.chr[m2]\n",
    "        self.chr[m2] = tmp\n",
    "        self.fitness, self.chr_y = self.fitFunc(self.chr)\n",
    "        return\n",
    "    \n",
    "    def gradientDescent(self, alpha = 1e-25, num_iters=100, stop_th=1):\n",
    "        m = len(y)\n",
    "        prev_cost = self.fitness\n",
    "        save = prev_cost\n",
    "\n",
    "        for _ in range(num_iters):\n",
    "            y_pred = np.polyval(self.chr, x)\n",
    "            judge = np.sign(y_pred - y)\n",
    "            X_poly = np.vander(x, N=len(self.chr))  \n",
    "            delta = (alpha/m) * np.dot(judge, X_poly)\n",
    "            self.chr -= alpha * delta\n",
    "            cur_cost = self.fitFunc(self.chr)[0]\n",
    "            prev_cost = cur_cost \n",
    "            if abs(prev_cost - cur_cost)<=stop_th:\n",
    "                break\n",
    "        if (save - cur_cost <= 0):\n",
    "            self.no_fail += 1\n",
    "        return\n"
   ]
  },
  {
   "cell_type": "code",
   "execution_count": 1134,
   "metadata": {},
   "outputs": [
    {
     "name": "stdout",
     "output_type": "stream",
     "text": [
      "0\n"
     ]
    }
   ],
   "source": [
    "pop_size = 200\n",
    "def generatePop():\n",
    "    pop = []\n",
    "    for _ in range(pop_size):\n",
    "        c = [random.uniform(coef_min, coef_max) for _ in range(n)]\n",
    "        pop.append(Chromosome(c))\n",
    "    return pop\n",
    "\n",
    "\n",
    "pop = generatePop()\n",
    "overall = 0\n",
    "for this in pop:\n",
    "    this.gradientDescent(alpha = 1e-7, num_iters=100, stop_th=1e-6)\n",
    "    overall += this.no_fail\n",
    "print(overall)\n",
    "\n",
    "#8 - 1\n",
    "#8- 2\n",
    "#18- 3\n",
    "#3 - 4"
   ]
  }
 ],
 "metadata": {
  "kernelspec": {
   "display_name": "base",
   "language": "python",
   "name": "python3"
  },
  "language_info": {
   "codemirror_mode": {
    "name": "ipython",
    "version": 3
   },
   "file_extension": ".py",
   "mimetype": "text/x-python",
   "name": "python",
   "nbconvert_exporter": "python",
   "pygments_lexer": "ipython3",
   "version": "3.11.5"
  }
 },
 "nbformat": 4,
 "nbformat_minor": 2
}
